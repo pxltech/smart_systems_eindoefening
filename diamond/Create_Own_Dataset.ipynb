{
 "cells": [
  {
   "cell_type": "code",
   "execution_count": 1,
   "metadata": {
    "scrolled": true
   },
   "outputs": [
    {
     "name": "stderr",
     "output_type": "stream",
     "text": [
      "Using TensorFlow backend.\n",
      "C:\\Users\\Kristof\\AnacondaNivagtor\\envs\\Smart_Systems\\lib\\site-packages\\tensorflow\\python\\framework\\dtypes.py:526: FutureWarning: Passing (type, 1) or '1type' as a synonym of type is deprecated; in a future version of numpy, it will be understood as (type, (1,)) / '(1,)type'.\n",
      "  _np_qint8 = np.dtype([(\"qint8\", np.int8, 1)])\n",
      "C:\\Users\\Kristof\\AnacondaNivagtor\\envs\\Smart_Systems\\lib\\site-packages\\tensorflow\\python\\framework\\dtypes.py:527: FutureWarning: Passing (type, 1) or '1type' as a synonym of type is deprecated; in a future version of numpy, it will be understood as (type, (1,)) / '(1,)type'.\n",
      "  _np_quint8 = np.dtype([(\"quint8\", np.uint8, 1)])\n",
      "C:\\Users\\Kristof\\AnacondaNivagtor\\envs\\Smart_Systems\\lib\\site-packages\\tensorflow\\python\\framework\\dtypes.py:528: FutureWarning: Passing (type, 1) or '1type' as a synonym of type is deprecated; in a future version of numpy, it will be understood as (type, (1,)) / '(1,)type'.\n",
      "  _np_qint16 = np.dtype([(\"qint16\", np.int16, 1)])\n",
      "C:\\Users\\Kristof\\AnacondaNivagtor\\envs\\Smart_Systems\\lib\\site-packages\\tensorflow\\python\\framework\\dtypes.py:529: FutureWarning: Passing (type, 1) or '1type' as a synonym of type is deprecated; in a future version of numpy, it will be understood as (type, (1,)) / '(1,)type'.\n",
      "  _np_quint16 = np.dtype([(\"quint16\", np.uint16, 1)])\n",
      "C:\\Users\\Kristof\\AnacondaNivagtor\\envs\\Smart_Systems\\lib\\site-packages\\tensorflow\\python\\framework\\dtypes.py:530: FutureWarning: Passing (type, 1) or '1type' as a synonym of type is deprecated; in a future version of numpy, it will be understood as (type, (1,)) / '(1,)type'.\n",
      "  _np_qint32 = np.dtype([(\"qint32\", np.int32, 1)])\n",
      "C:\\Users\\Kristof\\AnacondaNivagtor\\envs\\Smart_Systems\\lib\\site-packages\\tensorflow\\python\\framework\\dtypes.py:535: FutureWarning: Passing (type, 1) or '1type' as a synonym of type is deprecated; in a future version of numpy, it will be understood as (type, (1,)) / '(1,)type'.\n",
      "  np_resource = np.dtype([(\"resource\", np.ubyte, 1)])\n"
     ]
    }
   ],
   "source": [
    "from keras.datasets import mnist\n",
    "from matplotlib import pyplot as plt\n",
    "\n",
    "import numpy as np\n",
    "import os\n",
    "import cv2\n",
    "import random\n",
    "import pickle\n",
    "\n",
    "# libraries for building the Neural Netwerk\n",
    "import tensorflow as tf\n",
    "from tensorflow.keras.models import Sequential\n",
    "from tensorflow.keras.layers import Dense, Dropout, Activation, Flatten, Conv2D, MaxPooling2D\n",
    "from keras.models import model_from_json\n",
    "from keras.models import load_model\n",
    "import matplotlib.pyplot as plt\n"
   ]
  },
  {
   "cell_type": "code",
   "execution_count": 2,
   "metadata": {},
   "outputs": [
    {
     "name": "stdout",
     "output_type": "stream",
     "text": [
      "Downloading data from https://s3.amazonaws.com/img-datasets/mnist.npz\n",
      "11493376/11490434 [==============================] - 2s 0us/step\n"
     ]
    }
   ],
   "source": [
    "(x_train, y_train), (x_test, y_test) = mnist.load_data()"
   ]
  },
  {
   "cell_type": "markdown",
   "metadata": {},
   "source": [
    "# Preparing the data"
   ]
  },
  {
   "cell_type": "code",
   "execution_count": 3,
   "metadata": {},
   "outputs": [],
   "source": [
    "file_list = []\n",
    "class_list = []\n",
    "\n",
    "DATADIR = \".\\Data\"\n",
    "\n",
    "# All the categories you want your neural network to detect\n",
    "CATEGORIES = [\"02300 BLUE\", \"3011 LIGHTBLUE\", \"3011 RED\", \"3011 YELLOW\",\n",
    "              \"3198 LIGHTGREEN\", \"3437 BROWN\", \"3437 GREEN\", \"3437 LIGHTBLUE\",\n",
    "              \"3437 RED\", \"3437 WHITE\", \"3437 YELLOW\", \"6474 YELLOW\", \"11198 LIGHTGREEN\"]\n",
    "\n",
    "# The size of the images that your neural network will use\n",
    "IMG_SIZE = 50\n",
    "\n",
    "for category in CATEGORIES:\n",
    "    path = os.path.join(DATADIR, category)\n",
    "    \n",
    "    for image in os.listdir(path):\n",
    "        img_array = cv2.imread(os.path.join(path, image), cv2.IMREAD_GRAYSCALE)\n"
   ]
  },
  {
   "cell_type": "code",
   "execution_count": 4,
   "metadata": {},
   "outputs": [],
   "source": [
    "training_data = []\n",
    "\n",
    "def create_training_data():\n",
    "    for category in CATEGORIES:\n",
    "        path = os.path.join(DATADIR, category)\n",
    "        class_num = CATEGORIES.index(category)\n",
    "        \n",
    "        for image in os.listdir(path):\n",
    "            try:\n",
    "                image_array = cv2.imread(os.path.join(path, image), cv2.IMREAD_GRAYSCALE)\n",
    "                new_array = cv2.resize(image_array, (IMG_SIZE, IMG_SIZE))\n",
    "                training_data.append([new_array, class_num])\n",
    "            except Exception as e:\n",
    "                pass\n",
    "            \n",
    "create_training_data()\n",
    "random.shuffle(training_data)\n"
   ]
  },
  {
   "cell_type": "code",
   "execution_count": 5,
   "metadata": {},
   "outputs": [],
   "source": [
    "x = [] #features\n",
    "y = [] # labels\n",
    "\n",
    "for features, label in training_data:\n",
    "    x.append(features)\n",
    "    y.append(label)\n",
    "    \n",
    "x = np.array(x).reshape(-1, IMG_SIZE, IMG_SIZE, 1)\n"
   ]
  },
  {
   "cell_type": "code",
   "execution_count": 6,
   "metadata": {},
   "outputs": [],
   "source": [
    "# Creating the files containing all the information about your model\n",
    "pickle_out = open(\"x.pickle\", \"wb\")\n",
    "pickle.dump(x, pickle_out)\n",
    "pickle_out.close()\n",
    "\n",
    "pickle_out = open(\"y.pickle\", \"wb\")\n",
    "pickle.dump(y, pickle_out)\n",
    "pickle_out.close()\n",
    "\n",
    "pickle_in = open(\"x.pickle\", \"rb\")"
   ]
  },
  {
   "cell_type": "markdown",
   "metadata": {},
   "source": [
    "# Building the conolutional Neural Network"
   ]
  },
  {
   "cell_type": "code",
   "execution_count": 7,
   "metadata": {},
   "outputs": [],
   "source": [
    "# Opening the files about data\n",
    "x = pickle.load(open(\"x.pickle\", \"rb\"))\n",
    "y = pickle.load(open(\"y.pickle\", \"rb\"))\n",
    "\n",
    "# normalizing data (a pixel goes from 0 to 255)\n",
    "x = x / 255.0"
   ]
  },
  {
   "cell_type": "code",
   "execution_count": 8,
   "metadata": {},
   "outputs": [
    {
     "name": "stdout",
     "output_type": "stream",
     "text": [
      "WARNING:tensorflow:From C:\\Users\\Kristof\\AnacondaNivagtor\\envs\\Smart_Systems\\lib\\site-packages\\tensorflow\\python\\ops\\resource_variable_ops.py:435: colocate_with (from tensorflow.python.framework.ops) is deprecated and will be removed in a future version.\n",
      "Instructions for updating:\n",
      "Colocations handled automatically by placer.\n",
      "WARNING:tensorflow:From C:\\Users\\Kristof\\AnacondaNivagtor\\envs\\Smart_Systems\\lib\\site-packages\\tensorflow\\python\\keras\\layers\\core.py:143: calling dropout (from tensorflow.python.ops.nn_ops) with keep_prob is deprecated and will be removed in a future version.\n",
      "Instructions for updating:\n",
      "Please use `rate` instead of `keep_prob`. Rate should be set to `rate = 1 - keep_prob`.\n"
     ]
    }
   ],
   "source": [
    "# Building the model\n",
    "model = Sequential()\n",
    "\n",
    "#3 Convolutional Layers\n",
    "model.add(Conv2D(32, (3, 3), input_shape = x.shape[1:]))\n",
    "model.add(Activation(\"relu\"))\n",
    "model.add(MaxPooling2D(pool_size=(2,2)))\n",
    "\n",
    "model.add(Conv2D(64, (3, 3)))\n",
    "model.add(Activation(\"relu\"))\n",
    "model.add(MaxPooling2D(pool_size=(2,2)))\n",
    "\n",
    "model.add(Conv2D(64, (3, 3)))\n",
    "model.add(Activation(\"relu\"))\n",
    "model.add(MaxPooling2D(pool_size=(2,2)))\n",
    "model.add(Dropout(0.25))"
   ]
  },
  {
   "cell_type": "code",
   "execution_count": 9,
   "metadata": {},
   "outputs": [],
   "source": [
    "# 2 hidden layers\n",
    "model.add(Flatten())\n",
    "model.add(Dense(128))\n",
    "model.add(Activation(\"relu\"))\n",
    "\n",
    "model.add(Dense(128))\n",
    "model.add(Activation(\"relu\"))\n",
    "\n",
    "# The output layer with 13 neurons, for 13 classes\n",
    "model.add(Dense(13))\n",
    "model.add(Activation(\"softmax\"))"
   ]
  },
  {
   "cell_type": "code",
   "execution_count": 10,
   "metadata": {},
   "outputs": [],
   "source": [
    "# Compiling the model using some basic parameters\n",
    "model.compile(loss=\"sparse_categorical_crossentropy\",\n",
    "              optimizer=\"adam\", \n",
    "              metrics=[\"accuracy\"])"
   ]
  },
  {
   "cell_type": "code",
   "execution_count": 11,
   "metadata": {},
   "outputs": [
    {
     "name": "stdout",
     "output_type": "stream",
     "text": [
      "Train on 15 samples, validate on 2 samples\n",
      "Epoch 1/40\n",
      "15/15 [==============================] - 2s 105ms/sample - loss: 2.5030 - acc: 0.3333 - val_loss: 2.4903 - val_acc: 0.0000e+00\n",
      "Epoch 2/40\n",
      "15/15 [==============================] - 0s 17ms/sample - loss: 2.3643 - acc: 0.3333 - val_loss: 2.4011 - val_acc: 0.0000e+00\n",
      "Epoch 3/40\n",
      "15/15 [==============================] - 0s 16ms/sample - loss: 2.1894 - acc: 0.3333 - val_loss: 2.3781 - val_acc: 0.0000e+00\n",
      "Epoch 4/40\n",
      "15/15 [==============================] - 0s 21ms/sample - loss: 1.9601 - acc: 0.3333 - val_loss: 2.5717 - val_acc: 0.0000e+00\n",
      "Epoch 5/40\n",
      "15/15 [==============================] - 0s 13ms/sample - loss: 1.8216 - acc: 0.3333 - val_loss: 2.8330 - val_acc: 0.0000e+00\n",
      "Epoch 6/40\n",
      "15/15 [==============================] - 0s 12ms/sample - loss: 1.8240 - acc: 0.3333 - val_loss: 2.8674 - val_acc: 0.0000e+00\n",
      "Epoch 7/40\n",
      "15/15 [==============================] - 0s 14ms/sample - loss: 1.6874 - acc: 0.3333 - val_loss: 2.8305 - val_acc: 0.0000e+00\n",
      "Epoch 8/40\n",
      "15/15 [==============================] - 0s 12ms/sample - loss: 1.6246 - acc: 0.4000 - val_loss: 2.7203 - val_acc: 0.0000e+00\n",
      "Epoch 9/40\n",
      "15/15 [==============================] - 0s 12ms/sample - loss: 1.5564 - acc: 0.2667 - val_loss: 2.5830 - val_acc: 0.0000e+00\n",
      "Epoch 10/40\n",
      "15/15 [==============================] - 0s 12ms/sample - loss: 1.5562 - acc: 0.3333 - val_loss: 2.4193 - val_acc: 0.0000e+00\n",
      "Epoch 11/40\n",
      "15/15 [==============================] - 0s 12ms/sample - loss: 1.5124 - acc: 0.4667 - val_loss: 2.2837 - val_acc: 0.0000e+00\n",
      "Epoch 12/40\n",
      "15/15 [==============================] - 0s 11ms/sample - loss: 1.4694 - acc: 0.4667 - val_loss: 2.2284 - val_acc: 0.0000e+00\n",
      "Epoch 13/40\n",
      "15/15 [==============================] - 0s 11ms/sample - loss: 1.3449 - acc: 0.5333 - val_loss: 2.2756 - val_acc: 0.0000e+00\n",
      "Epoch 14/40\n",
      "15/15 [==============================] - 0s 11ms/sample - loss: 1.4382 - acc: 0.3333 - val_loss: 2.3445 - val_acc: 0.0000e+00\n",
      "Epoch 15/40\n",
      "15/15 [==============================] - 0s 10ms/sample - loss: 1.3050 - acc: 0.3333 - val_loss: 2.3728 - val_acc: 0.0000e+00\n",
      "Epoch 16/40\n",
      "15/15 [==============================] - 0s 10ms/sample - loss: 1.3610 - acc: 0.5333 - val_loss: 2.3003 - val_acc: 0.0000e+00\n",
      "Epoch 17/40\n",
      "15/15 [==============================] - 0s 10ms/sample - loss: 1.4691 - acc: 0.4000 - val_loss: 2.1180 - val_acc: 0.0000e+00\n",
      "Epoch 18/40\n",
      "15/15 [==============================] - 0s 9ms/sample - loss: 1.3137 - acc: 0.4000 - val_loss: 1.8981 - val_acc: 0.0000e+00\n",
      "Epoch 19/40\n",
      "15/15 [==============================] - 0s 9ms/sample - loss: 1.1599 - acc: 0.5333 - val_loss: 1.7745 - val_acc: 0.5000\n",
      "Epoch 20/40\n",
      "15/15 [==============================] - 0s 10ms/sample - loss: 1.2722 - acc: 0.5333 - val_loss: 1.7849 - val_acc: 0.0000e+00\n",
      "Epoch 21/40\n",
      "15/15 [==============================] - 0s 10ms/sample - loss: 1.2329 - acc: 0.4667 - val_loss: 1.9159 - val_acc: 0.0000e+00\n",
      "Epoch 22/40\n",
      "15/15 [==============================] - 0s 8ms/sample - loss: 1.1342 - acc: 0.5333 - val_loss: 2.1771 - val_acc: 0.0000e+00\n",
      "Epoch 23/40\n",
      "15/15 [==============================] - 0s 8ms/sample - loss: 1.1261 - acc: 0.5333 - val_loss: 2.2572 - val_acc: 0.0000e+00\n",
      "Epoch 24/40\n",
      "15/15 [==============================] - 0s 8ms/sample - loss: 1.3179 - acc: 0.5333 - val_loss: 2.0388 - val_acc: 0.0000e+00\n",
      "Epoch 25/40\n",
      "15/15 [==============================] - 0s 8ms/sample - loss: 1.0891 - acc: 0.5333 - val_loss: 1.7523 - val_acc: 0.5000\n",
      "Epoch 26/40\n",
      "15/15 [==============================] - 0s 8ms/sample - loss: 1.0580 - acc: 0.6667 - val_loss: 1.5709 - val_acc: 0.5000\n",
      "Epoch 27/40\n",
      "15/15 [==============================] - 0s 7ms/sample - loss: 1.1439 - acc: 0.5333 - val_loss: 1.6567 - val_acc: 0.5000\n",
      "Epoch 28/40\n",
      "15/15 [==============================] - 0s 7ms/sample - loss: 1.0237 - acc: 0.6667 - val_loss: 2.0079 - val_acc: 0.0000e+00\n",
      "Epoch 29/40\n",
      "15/15 [==============================] - 0s 7ms/sample - loss: 1.1027 - acc: 0.4667 - val_loss: 2.2565 - val_acc: 0.0000e+00\n",
      "Epoch 30/40\n",
      "15/15 [==============================] - 0s 8ms/sample - loss: 0.9683 - acc: 0.6000 - val_loss: 1.8205 - val_acc: 0.5000\n",
      "Epoch 31/40\n",
      "15/15 [==============================] - 0s 9ms/sample - loss: 1.1279 - acc: 0.5333 - val_loss: 1.4335 - val_acc: 0.5000\n",
      "Epoch 32/40\n",
      "15/15 [==============================] - 0s 8ms/sample - loss: 0.9749 - acc: 0.6000 - val_loss: 1.5359 - val_acc: 0.5000\n",
      "Epoch 33/40\n",
      "15/15 [==============================] - 0s 8ms/sample - loss: 0.8864 - acc: 0.6667 - val_loss: 2.0683 - val_acc: 0.0000e+00\n",
      "Epoch 34/40\n",
      "15/15 [==============================] - 0s 6ms/sample - loss: 0.6839 - acc: 0.6667 - val_loss: 2.5186 - val_acc: 0.0000e+00\n",
      "Epoch 35/40\n",
      "15/15 [==============================] - 0s 6ms/sample - loss: 0.5958 - acc: 0.7333 - val_loss: 2.5619 - val_acc: 0.0000e+00\n",
      "Epoch 36/40\n",
      "15/15 [==============================] - 0s 6ms/sample - loss: 0.8828 - acc: 0.6000 - val_loss: 1.6045 - val_acc: 0.5000\n",
      "Epoch 37/40\n",
      "15/15 [==============================] - 0s 6ms/sample - loss: 0.6973 - acc: 0.8000 - val_loss: 1.0349 - val_acc: 0.5000\n",
      "Epoch 38/40\n",
      "15/15 [==============================] - 0s 5ms/sample - loss: 0.8454 - acc: 0.6000 - val_loss: 1.1507 - val_acc: 0.5000\n",
      "Epoch 39/40\n",
      "15/15 [==============================] - 0s 5ms/sample - loss: 1.0093 - acc: 0.6000 - val_loss: 1.6495 - val_acc: 0.5000\n",
      "Epoch 40/40\n",
      "15/15 [==============================] - 0s 5ms/sample - loss: 0.4879 - acc: 0.8000 - val_loss: 2.0652 - val_acc: 0.0000e+00\n"
     ]
    }
   ],
   "source": [
    "# Training the model, with 40 iterations\n",
    "# validation_split corresponds to the percentage of images used for the validation phase compared to all the images\n",
    "history = model.fit(x, y, batch_size=32, epochs=40, validation_split=0.1)"
   ]
  },
  {
   "cell_type": "code",
   "execution_count": 12,
   "metadata": {},
   "outputs": [
    {
     "name": "stdout",
     "output_type": "stream",
     "text": [
      "Saved model to disk\n"
     ]
    }
   ],
   "source": [
    "# Saving the model\n",
    "model_json = model.to_json()\n",
    "with open(\"model.json\", \"w\") as json_file :\n",
    "\tjson_file.write(model_json)\n",
    "\n",
    "model.save_weights(\"model.h5\")\n",
    "print(\"Saved model to disk\")\n",
    "\n",
    "model.save('CNN.model')"
   ]
  },
  {
   "cell_type": "code",
   "execution_count": 13,
   "metadata": {
    "scrolled": true
   },
   "outputs": [
    {
     "name": "stdout",
     "output_type": "stream",
     "text": [
      "dict_keys(['loss', 'acc', 'val_loss', 'val_acc'])\n"
     ]
    },
    {
     "data": {
      "text/plain": [
       "<matplotlib.legend.Legend at 0x6439ae5be0>"
      ]
     },
     "execution_count": 13,
     "metadata": {},
     "output_type": "execute_result"
    },
    {
     "data": {
      "image/png": "[encoded data removed]",
      "text/plain": [
       "<Figure size 432x288 with 1 Axes>"
      ]
     },
     "metadata": {
      "needs_background": "light"
     },
     "output_type": "display_data"
    }
   ],
   "source": [
    "# Printing a graph showing the accuracy changes during the training phase\n",
    "print(history.history.keys())\n",
    "plt.figure(1)\n",
    "plt.plot(history.history['acc'])\n",
    "plt.plot(history.history['val_acc'])\n",
    "plt.title('model accuracy')\n",
    "plt.ylabel('accuracy')\n",
    "plt.xlabel('epoch')\n",
    "plt.legend(['train', 'validation'], loc='upper left')\n"
   ]
  },
  {
   "cell_type": "markdown",
   "metadata": {},
   "source": [
    "# Predicting an Image Class"
   ]
  },
  {
   "cell_type": "code",
   "execution_count": 14,
   "metadata": {},
   "outputs": [
    {
     "ename": "AttributeError",
     "evalue": "'str' object has no attribute 'shape'",
     "output_type": "error",
     "traceback": [
      "\u001b[1;31m---------------------------------------------------------------------------\u001b[0m",
      "\u001b[1;31mAttributeError\u001b[0m                            Traceback (most recent call last)",
      "\u001b[1;32m<ipython-input-14-e113f7db1421>\u001b[0m in \u001b[0;36m<module>\u001b[1;34m\u001b[0m\n\u001b[0;32m      6\u001b[0m \u001b[0mmodel\u001b[0m \u001b[1;33m=\u001b[0m \u001b[0mtf\u001b[0m\u001b[1;33m.\u001b[0m\u001b[0mkeras\u001b[0m\u001b[1;33m.\u001b[0m\u001b[0mmodels\u001b[0m\u001b[1;33m.\u001b[0m\u001b[0mload_model\u001b[0m\u001b[1;33m(\u001b[0m\u001b[1;34m\"CNN.model\"\u001b[0m\u001b[1;33m)\u001b[0m\u001b[1;33m\u001b[0m\u001b[1;33m\u001b[0m\u001b[0m\n\u001b[0;32m      7\u001b[0m \u001b[0mimage\u001b[0m \u001b[1;33m=\u001b[0m \u001b[1;34m\".\\Data\\02300 BLUE\\02300_BLUE_1.jpg\"\u001b[0m \u001b[1;31m#your image path\u001b[0m\u001b[1;33m\u001b[0m\u001b[1;33m\u001b[0m\u001b[0m\n\u001b[1;32m----> 8\u001b[1;33m \u001b[0mprediction\u001b[0m \u001b[1;33m=\u001b[0m \u001b[0mmodel\u001b[0m\u001b[1;33m.\u001b[0m\u001b[0mpredict\u001b[0m\u001b[1;33m(\u001b[0m\u001b[1;33m[\u001b[0m\u001b[0mimage\u001b[0m\u001b[1;33m]\u001b[0m\u001b[1;33m)\u001b[0m\u001b[1;33m\u001b[0m\u001b[1;33m\u001b[0m\u001b[0m\n\u001b[0m\u001b[0;32m      9\u001b[0m \u001b[0mprediction\u001b[0m \u001b[1;33m=\u001b[0m \u001b[0mlist\u001b[0m\u001b[1;33m(\u001b[0m\u001b[0mprediction\u001b[0m\u001b[1;33m[\u001b[0m\u001b[1;36m0\u001b[0m\u001b[1;33m]\u001b[0m\u001b[1;33m)\u001b[0m\u001b[1;33m\u001b[0m\u001b[1;33m\u001b[0m\u001b[0m\n\u001b[0;32m     10\u001b[0m \u001b[0mprint\u001b[0m\u001b[1;33m(\u001b[0m\u001b[0mCATEGORIES\u001b[0m\u001b[1;33m[\u001b[0m\u001b[0mprediction\u001b[0m\u001b[1;33m.\u001b[0m\u001b[0mindex\u001b[0m\u001b[1;33m(\u001b[0m\u001b[0mmax\u001b[0m\u001b[1;33m(\u001b[0m\u001b[0mprediction\u001b[0m\u001b[1;33m)\u001b[0m\u001b[1;33m)\u001b[0m\u001b[1;33m]\u001b[0m\u001b[1;33m)\u001b[0m\u001b[1;33m\u001b[0m\u001b[1;33m\u001b[0m\u001b[0m\n",
      "\u001b[1;32m~\\AnacondaNivagtor\\envs\\Smart_Systems\\lib\\site-packages\\tensorflow\\python\\keras\\engine\\training.py\u001b[0m in \u001b[0;36mpredict\u001b[1;34m(self, x, batch_size, verbose, steps, max_queue_size, workers, use_multiprocessing)\u001b[0m\n\u001b[0;32m   1094\u001b[0m       \u001b[1;31m# batch size.\u001b[0m\u001b[1;33m\u001b[0m\u001b[1;33m\u001b[0m\u001b[1;33m\u001b[0m\u001b[0m\n\u001b[0;32m   1095\u001b[0m       x, _, _ = self._standardize_user_data(\n\u001b[1;32m-> 1096\u001b[1;33m           x, check_steps=True, steps_name='steps', steps=steps)\n\u001b[0m\u001b[0;32m   1097\u001b[0m \u001b[1;33m\u001b[0m\u001b[0m\n\u001b[0;32m   1098\u001b[0m     if (self.run_eagerly or (isinstance(x, iterator_ops.EagerIterator) and\n",
      "\u001b[1;32m~\\AnacondaNivagtor\\envs\\Smart_Systems\\lib\\site-packages\\tensorflow\\python\\keras\\engine\\training.py\u001b[0m in \u001b[0;36m_standardize_user_data\u001b[1;34m(self, x, y, sample_weight, class_weight, batch_size, check_steps, steps_name, steps, validation_split, shuffle)\u001b[0m\n\u001b[0;32m   2380\u001b[0m         \u001b[0mfeed_input_shapes\u001b[0m\u001b[1;33m,\u001b[0m\u001b[1;33m\u001b[0m\u001b[1;33m\u001b[0m\u001b[0m\n\u001b[0;32m   2381\u001b[0m         \u001b[0mcheck_batch_axis\u001b[0m\u001b[1;33m=\u001b[0m\u001b[1;32mFalse\u001b[0m\u001b[1;33m,\u001b[0m  \u001b[1;31m# Don't enforce the batch size.\u001b[0m\u001b[1;33m\u001b[0m\u001b[1;33m\u001b[0m\u001b[0m\n\u001b[1;32m-> 2382\u001b[1;33m         exception_prefix='input')\n\u001b[0m\u001b[0;32m   2383\u001b[0m \u001b[1;33m\u001b[0m\u001b[0m\n\u001b[0;32m   2384\u001b[0m     \u001b[1;32mif\u001b[0m \u001b[0my\u001b[0m \u001b[1;32mis\u001b[0m \u001b[1;32mnot\u001b[0m \u001b[1;32mNone\u001b[0m\u001b[1;33m:\u001b[0m\u001b[1;33m\u001b[0m\u001b[1;33m\u001b[0m\u001b[0m\n",
      "\u001b[1;32m~\\AnacondaNivagtor\\envs\\Smart_Systems\\lib\\site-packages\\tensorflow\\python\\keras\\engine\\training_utils.py\u001b[0m in \u001b[0;36mstandardize_input_data\u001b[1;34m(data, names, shapes, check_batch_axis, exception_prefix)\u001b[0m\n\u001b[0;32m    310\u001b[0m   \u001b[1;32mif\u001b[0m \u001b[0mshapes\u001b[0m \u001b[1;32mis\u001b[0m \u001b[1;32mnot\u001b[0m \u001b[1;32mNone\u001b[0m\u001b[1;33m:\u001b[0m\u001b[1;33m\u001b[0m\u001b[1;33m\u001b[0m\u001b[0m\n\u001b[0;32m    311\u001b[0m     data = [standardize_single_array(x, shape)\n\u001b[1;32m--> 312\u001b[1;33m             for (x, shape) in zip(data, shapes)]\n\u001b[0m\u001b[0;32m    313\u001b[0m   \u001b[1;32melse\u001b[0m\u001b[1;33m:\u001b[0m\u001b[1;33m\u001b[0m\u001b[1;33m\u001b[0m\u001b[0m\n\u001b[0;32m    314\u001b[0m     \u001b[0mdata\u001b[0m \u001b[1;33m=\u001b[0m \u001b[1;33m[\u001b[0m\u001b[0mstandardize_single_array\u001b[0m\u001b[1;33m(\u001b[0m\u001b[0mx\u001b[0m\u001b[1;33m)\u001b[0m \u001b[1;32mfor\u001b[0m \u001b[0mx\u001b[0m \u001b[1;32min\u001b[0m \u001b[0mdata\u001b[0m\u001b[1;33m]\u001b[0m\u001b[1;33m\u001b[0m\u001b[1;33m\u001b[0m\u001b[0m\n",
      "\u001b[1;32m~\\AnacondaNivagtor\\envs\\Smart_Systems\\lib\\site-packages\\tensorflow\\python\\keras\\engine\\training_utils.py\u001b[0m in \u001b[0;36m<listcomp>\u001b[1;34m(.0)\u001b[0m\n\u001b[0;32m    310\u001b[0m   \u001b[1;32mif\u001b[0m \u001b[0mshapes\u001b[0m \u001b[1;32mis\u001b[0m \u001b[1;32mnot\u001b[0m \u001b[1;32mNone\u001b[0m\u001b[1;33m:\u001b[0m\u001b[1;33m\u001b[0m\u001b[1;33m\u001b[0m\u001b[0m\n\u001b[0;32m    311\u001b[0m     data = [standardize_single_array(x, shape)\n\u001b[1;32m--> 312\u001b[1;33m             for (x, shape) in zip(data, shapes)]\n\u001b[0m\u001b[0;32m    313\u001b[0m   \u001b[1;32melse\u001b[0m\u001b[1;33m:\u001b[0m\u001b[1;33m\u001b[0m\u001b[1;33m\u001b[0m\u001b[0m\n\u001b[0;32m    314\u001b[0m     \u001b[0mdata\u001b[0m \u001b[1;33m=\u001b[0m \u001b[1;33m[\u001b[0m\u001b[0mstandardize_single_array\u001b[0m\u001b[1;33m(\u001b[0m\u001b[0mx\u001b[0m\u001b[1;33m)\u001b[0m \u001b[1;32mfor\u001b[0m \u001b[0mx\u001b[0m \u001b[1;32min\u001b[0m \u001b[0mdata\u001b[0m\u001b[1;33m]\u001b[0m\u001b[1;33m\u001b[0m\u001b[1;33m\u001b[0m\u001b[0m\n",
      "\u001b[1;32m~\\AnacondaNivagtor\\envs\\Smart_Systems\\lib\\site-packages\\tensorflow\\python\\keras\\engine\\training_utils.py\u001b[0m in \u001b[0;36mstandardize_single_array\u001b[1;34m(x, expected_shape)\u001b[0m\n\u001b[0;32m    240\u001b[0m     \u001b[1;32mreturn\u001b[0m \u001b[1;32mNone\u001b[0m\u001b[1;33m\u001b[0m\u001b[1;33m\u001b[0m\u001b[0m\n\u001b[0;32m    241\u001b[0m \u001b[1;33m\u001b[0m\u001b[0m\n\u001b[1;32m--> 242\u001b[1;33m   if (x.shape is not None\n\u001b[0m\u001b[0;32m    243\u001b[0m       \u001b[1;32mand\u001b[0m \u001b[0mlen\u001b[0m\u001b[1;33m(\u001b[0m\u001b[0mx\u001b[0m\u001b[1;33m.\u001b[0m\u001b[0mshape\u001b[0m\u001b[1;33m)\u001b[0m \u001b[1;33m==\u001b[0m \u001b[1;36m1\u001b[0m\u001b[1;33m\u001b[0m\u001b[1;33m\u001b[0m\u001b[0m\n\u001b[0;32m    244\u001b[0m       and (expected_shape is None or len(expected_shape) != 1)):\n",
      "\u001b[1;31mAttributeError\u001b[0m: 'str' object has no attribute 'shape'"
     ]
    }
   ],
   "source": [
    "def prepare(file):\n",
    "    IMG_SIZE = 50\n",
    "    image_array = cv2.imread(file, cv2.IMREAD_GRAYSCALE)\n",
    "    new_array = cv2.resize(image_array, (IMG_SIZE, IMG_SIZE))\n",
    "    return new_array.reshape(-1, IMG_SIZE, IMG_SIZE, 1)\n",
    "model = tf.keras.models.load_model(\"CNN.model\")\n",
    "image = \".\\Data\\02300 BLUE\\02300_BLUE_1.jpg\" #your image path\n",
    "prediction = model.predict([image])\n",
    "prediction = list(prediction[0])\n",
    "print(CATEGORIES[prediction.index(max(prediction))])"
   ]
  }
 ],
 "metadata": {
  "kernelspec": {
   "display_name": "Python 3",
   "language": "python",
   "name": "python3"
  },
  "language_info": {
   "codemirror_mode": {
    "name": "ipython",
    "version": 3
   },
   "file_extension": ".py",
   "mimetype": "text/x-python",
   "name": "python",
   "nbconvert_exporter": "python",
   "pygments_lexer": "ipython3",
   "version": "3.7.3"
  }
 },
 "nbformat": 4,
 "nbformat_minor": 2
}
