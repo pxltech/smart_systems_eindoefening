{
 "cells": [
  {
   "cell_type": "markdown",
   "metadata": {},
   "source": [
    "## Voeg de Librarys toe."
   ]
  },
  {
   "cell_type": "code",
   "execution_count": 1,
   "metadata": {},
   "outputs": [],
   "source": [
    "# Initialiseer de librarys\n",
    "import pickle\n",
    "import streamlit as st\n",
    "import pandas as pd\n",
    "import numpy as np\n",
    "import os"
   ]
  },
  {
   "cell_type": "markdown",
   "metadata": {},
   "source": [
    "# Functie"
   ]
  },
  {
   "cell_type": "code",
   "execution_count": 2,
   "metadata": {},
   "outputs": [],
   "source": [
    "# Controleer of er een lege string is\n",
    "def CheckEmptyString(Variable):\n",
    "    if Variable == \"\":\n",
    "        return 0\n",
    "    else:\n",
    "        return Variable"
   ]
  },
  {
   "cell_type": "markdown",
   "metadata": {},
   "source": [
    "## Selecteer een CSV file"
   ]
  },
  {
   "cell_type": "code",
   "execution_count": 15,
   "metadata": {},
   "outputs": [],
   "source": [
    "def Csvfile_selector(folder_path='.\\EindOpdracht'):\n",
    "    filenames = os.listdir(folder_path)\n",
    "    selected_filename = st.selectbox('Select a file', filenames)\n",
    "    return os.path.join(folder_path, selected_filename)\n",
    "\n",
    "Csvfilename = Csvfile_selector()\n",
    "st.write('You selected `%s`' % Csvfilename)"
   ]
  },
  {
   "cell_type": "markdown",
   "metadata": {},
   "source": [
    "## Selecteer een Pickle file "
   ]
  },
  {
   "cell_type": "code",
   "execution_count": null,
   "metadata": {},
   "outputs": [],
   "source": [
    "def Picklefile_selector(folder_path='.\\EindOpdracht'):\n",
    "    filenames = os.listdir(folder_path)\n",
    "    selected_filename = st.selectbox('Select a file', filenames)\n",
    "    return os.path.join(folder_path, selected_filename)\n",
    "\n",
    "Picklefilename = Picklefile_selector()\n",
    "st.write('You selected `%s`' % Picklefilename)"
   ]
  },
  {
   "cell_type": "markdown",
   "metadata": {},
   "source": [
    "## Haal de data uit de files"
   ]
  },
  {
   "cell_type": "code",
   "execution_count": 19,
   "metadata": {},
   "outputs": [],
   "source": [
    "PicklePath = \"BreastCancerPickle.pkl\"\n",
    "PickleData = pickle.load(open(PicklePath, \"+rb\"))\n",
    "\n",
    "CsvPath = \"wisc_bc_data.csv\"\n",
    "#CsvData = pd.read_csv(Csvfilename)\n",
    "CsvData = pd.read_csv(CsvPath)\n",
    "\n",
    "st.write(CsvData.dtypes)\n",
    "\n",
    "Aantal_Kolom = len(CsvData.columns)\n",
    "Output_Categorie = \"diagnosis\"\n",
    "Index_Output = CsvData.columns.get_loc(Output_Categorie)"
   ]
  },
  {
   "cell_type": "markdown",
   "metadata": {},
   "source": [
    "### slider om de range te bepalen"
   ]
  },
  {
   "cell_type": "code",
   "execution_count": 20,
   "metadata": {},
   "outputs": [],
   "source": [
    "number1 = st.sidebar.number_input('Insert a MIN-number')\n",
    "st.write('The current number is ', number1)\n",
    "\n",
    "number2 = st.sidebar.number_input('Insert a MAX-number')\n",
    "st.write('The current number is ', number2)\n",
    "\n",
    "# Range met slider bepaalt welke kolommen je wilt zien.\n",
    "values = st.sidebar.slider('Select a range', 0, Aantal_Kolom, number1, number2)\n",
    "st.write('Values:', values)"
   ]
  },
  {
   "cell_type": "code",
   "execution_count": 23,
   "metadata": {},
   "outputs": [],
   "source": [
    "InputList = []\n",
    "List1 = [] # np.empty((0,aantal_kolommen-1))\n",
    "OutputNaam = \"\""
   ]
  },
  {
   "cell_type": "code",
   "execution_count": 24,
   "metadata": {},
   "outputs": [
    {
     "name": "stdout",
     "output_type": "stream",
     "text": [
      "['input', 'output', 'input', 'input', 'input', 'input', 'input', 'input', 'input', 'input', 'input', 'input', 'input', 'input', 'input', 'input', 'input', 'input', 'input', 'input', 'input', 'input', 'input', 'input', 'input', 'input', 'input', 'input', 'input', 'input', 'input', 'input']\n"
     ]
    }
   ],
   "source": [
    "# doorlopen de hele list van kolommen en kennen er een ingang of een uitgang aan toe.\n",
    "for i in range(0, Aantal_Kolom):\n",
    "    # print(i)\n",
    "    # print(index_Output)\n",
    "    if i == Index_Output:\n",
    "        List1.append(\"output\")\n",
    "    else:\n",
    "        List1.append(\"input\")\n",
    "        \n",
    "print(List1)\n",
    "st.write(\"Past 1st loop\")"
   ]
  },
  {
   "cell_type": "code",
   "execution_count": 25,
   "metadata": {},
   "outputs": [
    {
     "name": "stdout",
     "output_type": "stream",
     "text": [
      "['input', 'output', 'input', 'input', 'input', 'input', 'input', 'input', 'input', 'input', 'input', 'input', 'input', 'input', 'input', 'input', 'input', 'input', 'input', 'input', 'input', 'input', 'input', 'input', 'input', 'input', 'input', 'input', 'input', 'input', 'input', 'input']\n"
     ]
    }
   ],
   "source": [
    "# doorlopen de list opnieuw. Overal waar een input staat,\n",
    "# kan je nu een input gaan meegeven (streamlit app)\n",
    "for j in range(0, Aantal_Kolom):\n",
    "    # print(j)\n",
    "    if List1[j] == \"input\":\n",
    "        if CsvData.dtypes[j] == \"float64\":\n",
    "            temp = st.text_input(CsvData.columns[j], key = j)\n",
    "            InputList.insert(j, float(CheckEmptyString(temp)) )\n",
    "            \n",
    "        if CsvData.dtypes[j] == \"int64\":\n",
    "            temp = st.text_input(CsvData.columns[j], key = j)\n",
    "            InputList.insert(j, float(CheckEmptyString(temp)) )\n",
    "            \n",
    "        if List1[j] == \"output\":\n",
    "            OutputNaam = CsvData.columns[j]\n",
    "            InputList.insert(j, \"output\")\n",
    "st.write(\"Past 2nd loop\")\n",
    "print(List1)"
   ]
  },
  {
   "cell_type": "code",
   "execution_count": 28,
   "metadata": {
    "scrolled": false
   },
   "outputs": [],
   "source": [
    "X_test = pd.DataFrame(InputList)\n",
    "\n",
    "# Halen we de output kolom uit de list omdat we deze juist zoeken.\n",
    "X_test = X_test.drop(Index_Output)\n",
    "\n",
    "st.write(InputList)\n",
    "st.write(type(InputList))\n",
    "st.write(X_test)\n",
    "\n",
    "# De (.T) staat voor toegang tot het attribute of een object, meestal een numpy array.\n",
    "Resultaat = PickleData.predict(X_test.T)\n",
    "st.write(Resultaat)\n"
   ]
  },
  {
   "cell_type": "markdown",
   "metadata": {},
   "source": [
    "## Shrijf naar Heroku"
   ]
  },
  {
   "cell_type": "code",
   "execution_count": 11,
   "metadata": {},
   "outputs": [
    {
     "name": "stderr",
     "output_type": "stream",
     "text": [
      "[NbConvertApp] Converting notebook Dynamic_Streamlit_APP.ipynb to script\n",
      "[NbConvertApp] Writing 3609 bytes to ..\\push\\Dynamic_Streamlit_APP.py\n"
     ]
    }
   ],
   "source": [
    "!jupyter nbconvert --output-dir='..\\push' --to script Dynamic_Streamlit_APP.ipynb"
   ]
  },
  {
   "cell_type": "code",
   "execution_count": null,
   "metadata": {},
   "outputs": [],
   "source": [
    "#sed '757,759d' .\\push\\diamonds-in-depth-analysis.py\n",
    "#tailer.head( -n -9 .\\EindOpdracht\\Dynamic_Streamlit_APP.py > .\\push\\pushreal\\Dynamic_Streamlit_APP.py )\n",
    "#tailer.head(open() -n -9 .\\push\\Dynamic_Streamlit_APP.py > .\\push\\pushreal\\Dynamic_Streamlit_APP.py )"
   ]
  },
  {
   "cell_type": "markdown",
   "metadata": {},
   "source": [
    "### Open de file en verwijder de laatste regels"
   ]
  },
  {
   "cell_type": "code",
   "execution_count": 12,
   "metadata": {},
   "outputs": [],
   "source": [
    "readFile = open(\".\\EindOpdracht\\Dynamic_Streamlit_APP.py\")\n",
    "# ..\\push\\pushreal\\Dynamic_Streamlit_APP.py\n",
    "lines = readFile.readlines()\n",
    "\n",
    "readFile.close()\n",
    "w = open(\".\\EindOpdracht\\Dynamic_Streamlit_APP.py\",'w')\n",
    "w.writelines([item for item in lines[:-13]])\n",
    "w.close()"
   ]
  },
  {
   "cell_type": "markdown",
   "metadata": {},
   "source": [
    "### Push naar heroku"
   ]
  },
  {
   "cell_type": "markdown",
   "metadata": {},
   "source": [
    "#### Moet 2 keer runnen omdat hij anders niet update naar heroku"
   ]
  },
  {
   "cell_type": "code",
   "execution_count": 13,
   "metadata": {},
   "outputs": [
    {
     "name": "stderr",
     "output_type": "stream",
     "text": [
      "fatal: cannot change to './push/pushreal': No such file or directory\n",
      "fatal: cannot change to './push/pushreal': No such file or directory\n"
     ]
    }
   ],
   "source": [
    "!git -C ./push/pushreal commit -am \"Nieuw commit\" | git -C ./push/pushreal push heroku master"
   ]
  },
  {
   "cell_type": "code",
   "execution_count": null,
   "metadata": {},
   "outputs": [],
   "source": [
    "!git -C ./push/pushreal commit -am \"Nieuw commit\" | git -C ./push/pushreal push heroku master"
   ]
  }
 ],
 "metadata": {
  "kernelspec": {
   "display_name": "Python 3",
   "language": "python",
   "name": "python3"
  },
  "language_info": {
   "codemirror_mode": {
    "name": "ipython",
    "version": 3
   },
   "file_extension": ".py",
   "mimetype": "text/x-python",
   "name": "python",
   "nbconvert_exporter": "python",
   "pygments_lexer": "ipython3",
   "version": "3.7.3"
  }
 },
 "nbformat": 4,
 "nbformat_minor": 2
}
