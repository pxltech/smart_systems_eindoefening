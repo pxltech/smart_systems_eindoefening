{
 "cells": [
  {
   "cell_type": "markdown",
   "metadata": {},
   "source": [
    "## Voeg de Librarys toe."
   ]
  },
  {
   "cell_type": "code",
   "execution_count": 1,
   "metadata": {},
   "outputs": [],
   "source": [
    "# Initialiseer de librarys\n",
    "import pickle\n",
    "import streamlit as st\n",
    "import pandas as pd\n",
    "import numpy as np"
   ]
  },
  {
   "cell_type": "code",
   "execution_count": 2,
   "metadata": {},
   "outputs": [],
   "source": [
    "# Controleer of er een lege string is\n",
    "def CheckEmptyString(Variable):\n",
    "    if Variable == \"\":\n",
    "        return 0\n",
    "    else:\n",
    "        return Variable"
   ]
  },
  {
   "cell_type": "markdown",
   "metadata": {},
   "source": [
    "## Get Data from de files"
   ]
  },
  {
   "cell_type": "code",
   "execution_count": 3,
   "metadata": {},
   "outputs": [],
   "source": [
    "PicklePath = \"BreastCancerPickle.pkl\"\n",
    "PickleData = pickle.load(open(PicklePath, \"+rb\"))\n",
    "\n",
    "CsvPath = \"wisc_bc_data.csv\"\n",
    "CsvData = pd.read_csv(CsvPath)\n",
    "\n",
    "st.write(CsvData.dtypes)\n",
    "\n",
    "Aantal_Kolom = len(CsvData.columns)\n",
    "Output_Categorie = \"diagnosis\"\n",
    "Index_Output = CsvData.columns.get_loc(Output_Categorie)"
   ]
  },
  {
   "cell_type": "code",
   "execution_count": 4,
   "metadata": {},
   "outputs": [],
   "source": [
    "InputList = []\n",
    "List1 = [] # np.empty((0,aantal_kolommen-1))\n",
    "OutputNaam = \"\""
   ]
  },
  {
   "cell_type": "code",
   "execution_count": null,
   "metadata": {},
   "outputs": [],
   "source": [
    "number1 = st.sidebar.number_input('Insert a number')\n",
    "st.write('The current number is ', number1)\n",
    "\n",
    "number2 = st.sidebar.number_input('Insert a number')\n",
    "st.write('The current number is ', number2)\n",
    "\n",
    "# Range met slider bepalen\n",
    "values = st.sidebar.slider('Select a range',0.0, Aantal_Kolom, (number1, number2))\n",
    "st.write('Values:', values)"
   ]
  },
  {
   "cell_type": "code",
   "execution_count": null,
   "metadata": {},
   "outputs": [],
   "source": []
  },
  {
   "cell_type": "code",
   "execution_count": 5,
   "metadata": {},
   "outputs": [
    {
     "name": "stdout",
     "output_type": "stream",
     "text": [
      "['input', 'output', 'input', 'input', 'input', 'input', 'input', 'input', 'input', 'input', 'input', 'input', 'input', 'input', 'input', 'input', 'input', 'input', 'input', 'input', 'input', 'input', 'input', 'input', 'input', 'input', 'input', 'input', 'input', 'input', 'input', 'input']\n"
     ]
    }
   ],
   "source": [
    "for i in range(0, Aantal_Kolom):\n",
    "    # print(i)\n",
    "    # print(index_Output)\n",
    "    if i == Index_Output:\n",
    "        List1.append(\"output\")\n",
    "    else:\n",
    "        List1.append(\"input\")\n",
    "        \n",
    "print(List1)\n",
    "st.write(\"Past 1st loop\")"
   ]
  },
  {
   "cell_type": "code",
   "execution_count": 6,
   "metadata": {},
   "outputs": [],
   "source": [
    "for j in range(0, Aantal_Kolom):\n",
    "    # print(j)\n",
    "    if List1[j] == \"input\":\n",
    "        if CsvData.dtypes[j] == \"float64\":\n",
    "            temp = st.text_input(CsvData.columns[j], key = j)\n",
    "            InputList.insert(j, float(CheckEmptyString(temp)) )\n",
    "            \n",
    "        if CsvData.dtypes[j] == \"int64\":\n",
    "            temp = st.text_input(CsvData.columns[j], key = j)\n",
    "            InputList.insert(j, float(CheckEmptyString(temp)) )\n",
    "            \n",
    "        if List1[j] == \"output\":\n",
    "            OutputNaam = CsvData.columns[j]\n",
    "            InputList.insert(j, \"output\")\n",
    "st.write(\"Past 2nd loop\")"
   ]
  },
  {
   "cell_type": "code",
   "execution_count": 7,
   "metadata": {},
   "outputs": [
    {
     "ename": "ValueError",
     "evalue": "X has 30 features per sample; expecting 31",
     "output_type": "error",
     "traceback": [
      "\u001b[1;31m---------------------------------------------------------------------------\u001b[0m",
      "\u001b[1;31mValueError\u001b[0m                                Traceback (most recent call last)",
      "\u001b[1;32m<ipython-input-7-201a19a1601d>\u001b[0m in \u001b[0;36m<module>\u001b[1;34m\u001b[0m\n\u001b[0;32m      6\u001b[0m \u001b[0mst\u001b[0m\u001b[1;33m.\u001b[0m\u001b[0mwrite\u001b[0m\u001b[1;33m(\u001b[0m\u001b[0mX_test\u001b[0m\u001b[1;33m)\u001b[0m\u001b[1;33m\u001b[0m\u001b[1;33m\u001b[0m\u001b[0m\n\u001b[0;32m      7\u001b[0m \u001b[1;33m\u001b[0m\u001b[0m\n\u001b[1;32m----> 8\u001b[1;33m \u001b[0mResultaat\u001b[0m \u001b[1;33m=\u001b[0m \u001b[0mPickleData\u001b[0m\u001b[1;33m.\u001b[0m\u001b[0mpredict\u001b[0m\u001b[1;33m(\u001b[0m\u001b[0mX_test\u001b[0m\u001b[1;33m.\u001b[0m\u001b[0mT\u001b[0m\u001b[1;33m)\u001b[0m\u001b[1;33m\u001b[0m\u001b[1;33m\u001b[0m\u001b[0m\n\u001b[0m\u001b[0;32m      9\u001b[0m \u001b[0mst\u001b[0m\u001b[1;33m.\u001b[0m\u001b[0mwrite\u001b[0m\u001b[1;33m(\u001b[0m\u001b[0mResultaat\u001b[0m\u001b[1;33m)\u001b[0m\u001b[1;33m\u001b[0m\u001b[1;33m\u001b[0m\u001b[0m\n",
      "\u001b[1;32m~\\AnacondaNivagtor\\envs\\Smart_Systems\\lib\\site-packages\\sklearn\\linear_model\\base.py\u001b[0m in \u001b[0;36mpredict\u001b[1;34m(self, X)\u001b[0m\n\u001b[0;32m    287\u001b[0m             \u001b[0mPredicted\u001b[0m \u001b[1;32mclass\u001b[0m \u001b[0mlabel\u001b[0m \u001b[0mper\u001b[0m \u001b[0msample\u001b[0m\u001b[1;33m.\u001b[0m\u001b[1;33m\u001b[0m\u001b[1;33m\u001b[0m\u001b[0m\n\u001b[0;32m    288\u001b[0m         \"\"\"\n\u001b[1;32m--> 289\u001b[1;33m         \u001b[0mscores\u001b[0m \u001b[1;33m=\u001b[0m \u001b[0mself\u001b[0m\u001b[1;33m.\u001b[0m\u001b[0mdecision_function\u001b[0m\u001b[1;33m(\u001b[0m\u001b[0mX\u001b[0m\u001b[1;33m)\u001b[0m\u001b[1;33m\u001b[0m\u001b[1;33m\u001b[0m\u001b[0m\n\u001b[0m\u001b[0;32m    290\u001b[0m         \u001b[1;32mif\u001b[0m \u001b[0mlen\u001b[0m\u001b[1;33m(\u001b[0m\u001b[0mscores\u001b[0m\u001b[1;33m.\u001b[0m\u001b[0mshape\u001b[0m\u001b[1;33m)\u001b[0m \u001b[1;33m==\u001b[0m \u001b[1;36m1\u001b[0m\u001b[1;33m:\u001b[0m\u001b[1;33m\u001b[0m\u001b[1;33m\u001b[0m\u001b[0m\n\u001b[0;32m    291\u001b[0m             \u001b[0mindices\u001b[0m \u001b[1;33m=\u001b[0m \u001b[1;33m(\u001b[0m\u001b[0mscores\u001b[0m \u001b[1;33m>\u001b[0m \u001b[1;36m0\u001b[0m\u001b[1;33m)\u001b[0m\u001b[1;33m.\u001b[0m\u001b[0mastype\u001b[0m\u001b[1;33m(\u001b[0m\u001b[0mnp\u001b[0m\u001b[1;33m.\u001b[0m\u001b[0mint\u001b[0m\u001b[1;33m)\u001b[0m\u001b[1;33m\u001b[0m\u001b[1;33m\u001b[0m\u001b[0m\n",
      "\u001b[1;32m~\\AnacondaNivagtor\\envs\\Smart_Systems\\lib\\site-packages\\sklearn\\linear_model\\base.py\u001b[0m in \u001b[0;36mdecision_function\u001b[1;34m(self, X)\u001b[0m\n\u001b[0;32m    268\u001b[0m         \u001b[1;32mif\u001b[0m \u001b[0mX\u001b[0m\u001b[1;33m.\u001b[0m\u001b[0mshape\u001b[0m\u001b[1;33m[\u001b[0m\u001b[1;36m1\u001b[0m\u001b[1;33m]\u001b[0m \u001b[1;33m!=\u001b[0m \u001b[0mn_features\u001b[0m\u001b[1;33m:\u001b[0m\u001b[1;33m\u001b[0m\u001b[1;33m\u001b[0m\u001b[0m\n\u001b[0;32m    269\u001b[0m             raise ValueError(\"X has %d features per sample; expecting %d\"\n\u001b[1;32m--> 270\u001b[1;33m                              % (X.shape[1], n_features))\n\u001b[0m\u001b[0;32m    271\u001b[0m \u001b[1;33m\u001b[0m\u001b[0m\n\u001b[0;32m    272\u001b[0m         scores = safe_sparse_dot(X, self.coef_.T,\n",
      "\u001b[1;31mValueError\u001b[0m: X has 30 features per sample; expecting 31"
     ]
    }
   ],
   "source": [
    "X_test = pd.DataFrame(InputList)\n",
    "X_test = X_test.drop(Index_Output)\n",
    "\n",
    "st.write(InputList)\n",
    "st.write(type(InputList))\n",
    "st.write(X_test)\n",
    "\n",
    "Resultaat = PickleData.predict(X_test.T)\n",
    "st.write(Resultaat)\n"
   ]
  },
  {
   "cell_type": "markdown",
   "metadata": {},
   "source": [
    "## Write to Heroku"
   ]
  },
  {
   "cell_type": "code",
   "execution_count": 15,
   "metadata": {},
   "outputs": [
    {
     "name": "stderr",
     "output_type": "stream",
     "text": [
      "[NbConvertApp] Converting notebook Dynamic_Streamlit_APP.ipynb to script\n",
      "[NbConvertApp] Writing 2767 bytes to .\\EindOpdracht\\Dynamic_Streamlit_APP.py\n"
     ]
    }
   ],
   "source": [
    "!jupyter nbconvert --output-dir='.\\EindOpdracht' --to script Dynamic_Streamlit_APP.ipynb"
   ]
  },
  {
   "cell_type": "code",
   "execution_count": null,
   "metadata": {},
   "outputs": [],
   "source": [
    "#sed '757,759d' .\\push\\diamonds-in-depth-analysis.py\n",
    "#tailer.head( -n -9 .\\EindOpdracht\\Dynamic_Streamlit_APP.py > .\\push\\pushreal\\Dynamic_Streamlit_APP.py )\n",
    "#tailer.head(open() -n -9 .\\push\\Dynamic_Streamlit_APP.py > .\\push\\pushreal\\Dynamic_Streamlit_APP.py )"
   ]
  },
  {
   "cell_type": "code",
   "execution_count": 17,
   "metadata": {},
   "outputs": [],
   "source": [
    "readFile = open(\".\\EindOpdracht\\Dynamic_Streamlit_APP.py\")\n",
    "\n",
    "lines = readFile.readlines()\n",
    "\n",
    "readFile.close()\n",
    "w = open(\".\\EindOpdracht\\Dynamic_Streamlit_APP.py\",'w')\n",
    "w.writelines([item for item in lines[:-13]])\n",
    "w.close()"
   ]
  },
  {
   "cell_type": "markdown",
   "metadata": {},
   "source": [
    "### Moet 2 keer omdat hij anders niet update."
   ]
  },
  {
   "cell_type": "code",
   "execution_count": null,
   "metadata": {},
   "outputs": [],
   "source": [
    "!git -C ./push/pushreal commit -am \"Nieuw commit\" | git -C ./push/pushreal push heroku master"
   ]
  },
  {
   "cell_type": "code",
   "execution_count": null,
   "metadata": {},
   "outputs": [],
   "source": [
    "!git -C ./push/pushreal commit -am \"Nieuw commit\" | git -C ./push/pushreal push heroku master"
   ]
  }
 ],
 "metadata": {
  "kernelspec": {
   "display_name": "Python 3",
   "language": "python",
   "name": "python3"
  },
  "language_info": {
   "codemirror_mode": {
    "name": "ipython",
    "version": 3
   },
   "file_extension": ".py",
   "mimetype": "text/x-python",
   "name": "python",
   "nbconvert_exporter": "python",
   "pygments_lexer": "ipython3",
   "version": "3.7.3"
  }
 },
 "nbformat": 4,
 "nbformat_minor": 2
}
