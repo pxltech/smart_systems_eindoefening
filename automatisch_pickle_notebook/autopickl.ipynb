{
 "cells": [
  {
   "cell_type": "markdown",
   "metadata": {},
   "source": [
    "# Automatische Streamlit app"
   ]
  },
  {
   "cell_type": "markdown",
   "metadata": {},
   "source": [
    "### Importeer de libraries."
   ]
  },
  {
   "cell_type": "code",
   "execution_count": 2,
   "metadata": {},
   "outputs": [],
   "source": [
    "import pickle\n",
    "import streamlit as st\n",
    "import pandas as pd\n",
    "import numpy as np\n"
   ]
  },
  {
   "cell_type": "markdown",
   "metadata": {},
   "source": [
    "### Functie om te controleren of de string leeg is."
   ]
  },
  {
   "cell_type": "code",
   "execution_count": 3,
   "metadata": {},
   "outputs": [],
   "source": [
    "def checkIfStringEmpty(var):\n",
    "    if var == \"\":\n",
    "        return 0\n",
    "    else:\n",
    "        return var\n"
   ]
  },
  {
   "cell_type": "code",
   "execution_count": 4,
   "metadata": {},
   "outputs": [
    {
     "name": "stdout",
     "output_type": "stream",
     "text": [
      "['input', 'output', 'input', 'input', 'input', 'input', 'input', 'input', 'input', 'input', 'input', 'input', 'input', 'input', 'input', 'input', 'input', 'input', 'input', 'input', 'input', 'input', 'input', 'input', 'input', 'input', 'input', 'input', 'input', 'input', 'input', 'input']\n",
      "0\n",
      "1\n",
      "2\n",
      "3\n",
      "4\n",
      "5\n",
      "6\n",
      "7\n",
      "8\n",
      "9\n",
      "10\n",
      "11\n",
      "12\n",
      "13\n",
      "14\n",
      "15\n",
      "16\n",
      "17\n",
      "18\n",
      "19\n",
      "20\n",
      "21\n",
      "22\n",
      "23\n",
      "24\n",
      "25\n",
      "26\n",
      "27\n",
      "28\n",
      "29\n",
      "30\n",
      "31\n"
     ]
    }
   ],
   "source": [
    "# lees de pckle en csv file in.\n",
    "model =pickle.load(open(\"./BreastCancerPickle.pkl\",\"+rb\"))\n",
    "test = pd.read_csv(\"./wisc_bc_data(1).csv\")\n",
    "st.write(test.dtypes)\n",
    "\n",
    "aantal_kolommen = len(test.columns)\n",
    "output_categorie = \"diagnosis\"\n",
    "index_output = test.columns.get_loc(output_categorie)\n",
    "inputlist = []\n",
    "list1 = []  # np.empty((0,aantal_kolommen-1))\n",
    "outputnaam = \"\"\n",
    "\n",
    "# toekennen van de ingangen en de uitgangen\n",
    "for i in range(0, aantal_kolommen):\n",
    "    # print(i)\n",
    "    # print(index_output)\n",
    "    if i == index_output:\n",
    "        list1.append(\"output\")\n",
    "    else:\n",
    "        list1.append(\"input\")\n",
    "print(list1)\n",
    "\n",
    "st.write(\"hallo\")\n",
    "\n",
    "\n",
    "for j in range(0, aantal_kolommen):\n",
    "    print(j)\n",
    "    # print(index_output)\n",
    "    if list1[j] == \"input\":\n",
    "        if test.dtypes[j] == \"float64\":\n",
    "            # inputlist.insert(j, st.text_input(test.columns[j], key=j))\n",
    "            temp = st.text_input(test.columns[j], key=j)\n",
    "            inputlist.insert(j, float(checkIfStringEmpty(temp)))\n",
    "        if test.dtypes[j] == \"int64\":\n",
    "            temp = st.text_input(test.columns[j], key=j)\n",
    "            inputlist.insert(j, int(checkIfStringEmpty(temp)))\n",
    "    if list1[j] == \"output\":\n",
    "        outputnaam = test.columns[j]\n",
    "        inputlist.insert(j, \"output\")\n",
    "\n",
    "\n",
    "\n",
    "X_test = pd.DataFrame(inputlist)\n",
    "X_test = X_test.drop(index_output)\n",
    "st.write(inputlist)\n",
    "st.write(type(inputlist))\n",
    "\n",
    "st.write(X_test)\n",
    "\n",
    "resultaat = model.predict(X_test.T)\n",
    "st.write(resultaat)"
   ]
  },
  {
   "cell_type": "code",
   "execution_count": null,
   "metadata": {},
   "outputs": [],
   "source": []
  },
  {
   "cell_type": "code",
   "execution_count": 5,
   "metadata": {},
   "outputs": [
    {
     "name": "stderr",
     "output_type": "stream",
     "text": [
      "[NbConvertApp] Converting notebook autopickl.ipynb to script\n",
      "[NbConvertApp] Writing 2034 bytes to ./push\\autopickl.py\n",
      "fatal: 'heroku' does not appear to be a git repository\n",
      "fatal: Could not read from remote repository.\n",
      "\n",
      "Please make sure you have the correct access rights\n",
      "and the repository exists.\n",
      "warning: LF will be replaced by CRLF in automatisch_pickle_notebook/autopickl.ipynb.\n",
      "The file will have its original line endings in your working directory\n",
      "fatal: 'heroku' does not appear to be a git repository\n",
      "fatal: Could not read from remote repository.\n",
      "\n",
      "Please make sure you have the correct access rights\n",
      "and the repository exists.\n"
     ]
    }
   ],
   "source": [
    "!jupyter nbconvert --output-dir='./push' --to script autopickl.ipynb\n",
    "!head -n -7 ./push/autopickl.py > ../automatisch_pickle/project.py\n",
    "!git -C ../automatisch_pickle commit -am \"Nieuw commit\" | git -C ../automatisch_pickle push heroku master\n",
    "!git -C ../automatisch_pickle commit -am \"Nieuw commit\" | git -C ../automatisch_pickle push heroku master"
   ]
  },
  {
   "cell_type": "code",
   "execution_count": null,
   "metadata": {},
   "outputs": [],
   "source": []
  }
 ],
 "metadata": {
  "kernelspec": {
   "display_name": "Python 3",
   "language": "python",
   "name": "python3"
  },
  "language_info": {
   "codemirror_mode": {
    "name": "ipython",
    "version": 3
   },
   "file_extension": ".py",
   "mimetype": "text/x-python",
   "name": "python",
   "nbconvert_exporter": "python",
   "pygments_lexer": "ipython3",
   "version": "3.7.3"
  }
 },
 "nbformat": 4,
 "nbformat_minor": 2
}
